{
 "cells": [
  {
   "cell_type": "code",
   "execution_count": null,
   "metadata": {},
   "outputs": [],
   "source": [
    "import torch\n",
    "import torch.nn as nn\n",
    "from transformers import BertTokenizer, BertModel\n",
    "import pandas as pd\n",
    "from sklearn.model_selection import train_test_split\n",
    "from transformers import BertTokenizer, BertModel\n"
   ]
  },
  {
   "cell_type": "code",
   "execution_count": null,
   "metadata": {},
   "outputs": [],
   "source": [
    "df = pd.read_csv(\"your_dataset.csv\")\n"
   ]
  },
  {
   "cell_type": "code",
   "execution_count": null,
   "metadata": {},
   "outputs": [],
   "source": [
    "X_train, X_test, y_train, y_test, category_train, category_test = train_test_split(\n",
    "    df[\"X\"], df[\"label\"], df[\"category\"], test_size=0.2, random_state=42\n",
    ")\n"
   ]
  },
  {
   "cell_type": "code",
   "execution_count": null,
   "metadata": {},
   "outputs": [],
   "source": [
    "tokenizer = BertTokenizer.from_pretrained(\"bert-base-uncased\")\n",
    "\n",
    "def preprocess_text(text):\n",
    "    encoded_text = tokenizer(text, return_tensors=\"pt\", padding=True)\n",
    "    return encoded_text[\"input_ids\"].to(device), encoded_text[\"attention_mask\"].to(device)\n"
   ]
  },
  {
   "cell_type": "code",
   "execution_count": null,
   "metadata": {},
   "outputs": [],
   "source": [
    "from transformers import BertTokenizer, BertModel\n",
    "\n",
    "# Hyperparameters\n",
    "num_classes = 3  # Number of dark pattern categories\n",
    "embedding_dim = 768  # Dimension of BERT embeddings\n",
    "dropout_rate = 0.2\n",
    "\n",
    "# Load pre-trained BERT model and tokenizer\n",
    "tokenizer = BertTokenizer.from_pretrained(\"bert-base-uncased\")\n",
    "bert_model = BertModel.from_pretrained(\"bert-base-uncased\")\n",
    "\n",
    "# Define device (CPU or GPU)\n",
    "device = torch.device(\"cuda:0\" if torch.cuda.is_available() else \"cpu\")"
   ]
  },
  {
   "cell_type": "code",
   "execution_count": null,
   "metadata": {},
   "outputs": [],
   "source": [
    "class ResNetTransformer(nn.Module):\n",
    "    def __init__(self, embedding_dim, num_classes, dropout_rate):\n",
    "        super(ResNetTransformer, self).__init__()\n",
    "        self.bert = bert_model\n",
    "\n",
    "        # Define residual connections\n",
    "        self.layer1 = nn.Sequential(\n",
    "            nn.Linear(embedding_dim, embedding_dim // 2),\n",
    "            nn.ReLU(),\n",
    "            nn.Linear(embedding_dim // 2, embedding_dim),\n",
    "            nn.Dropout(dropout_rate),\n",
    "        )\n",
    "        self.layer2 = nn.Sequential(\n",
    "            nn.Linear(embedding_dim, embedding_dim // 2),\n",
    "            nn.ReLU(),\n",
    "            nn.Linear(embedding_dim // 2, embedding_dim),\n",
    "            nn.Dropout(dropout_rate),\n",
    "        )\n",
    "\n",
    "        # Classification layer\n",
    "        self.fc = nn.Linear(embedding_dim, num_classes)\n",
    "\n",
    "    def forward(self, input_ids, attention_mask):\n",
    "        bert_output = self.bert(input_ids, attention_mask=attention_mask)\n",
    "        hidden_states = bert_output[0]\n",
    "\n",
    "        # Residual connections\n",
    "        residual = hidden_states\n",
    "        hidden_states = self.layer1(hidden_states)\n",
    "        hidden_states += residual\n",
    "        residual = hidden_states\n",
    "        hidden_states = self.layer2(hidden_states)\n",
    "        hidden_states += residual\n",
    "\n",
    "        # Classification\n",
    "        logits = self.fc(hidden_states[:, 0, :])  # Take CLS token representation\n",
    "\n",
    "        return logits\n",
    "\n",
    "# Create model instance\n",
    "model = ResNetTransformer(embedding_dim, num_classes, dropout_rate).to(device)\n"
   ]
  },
  {
   "cell_type": "code",
   "execution_count": null,
   "metadata": {},
   "outputs": [],
   "source": [
    "optimizer = torch.optim.AdamW(model.parameters(), lr=2e-5)\n",
    "loss_fn = nn.CrossEntropyLoss()\n"
   ]
  },
  {
   "cell_type": "code",
   "execution_count": null,
   "metadata": {},
   "outputs": [],
   "source": [
    "for epoch in range(num_epochs):\n",
    "    train_loss = 0\n",
    "    model.train()  # Set model to training mode\n",
    "\n",
    "    for i in range(0, len(X_train), batch_size):\n",
    "        batch_text = X_train[i:i+batch_size]\n",
    "        batch_labels = y_train[i:i+batch_size]\n",
    "\n",
    "        input_ids, attention_mask = preprocess_text(batch_text)\n",
    "\n",
    "        # Zero gradients\n",
    "        optimizer.zero_grad()\n",
    "\n",
    "        # Forward pass\n",
    "        logits = model(input_ids, attention_mask)\n",
    "        loss = loss_fn(logits, batch_labels)\n",
    "\n",
    "        # Backward pass and optimization\n",
    "        loss.backward()\n",
    "        optimizer.step()\n",
    "\n",
    "        train_loss += loss.item()\n",
    "\n",
    "    # Print training loss after each epoch\n",
    "    train_loss = train_loss / len(X_train)\n",
    "    print(f\"Epoch {epoch+1}/{num_epochs}, Training Loss: {train_loss:.4f}\")\n"
   ]
  },
  {
   "cell_type": "code",
   "execution_count": null,
   "metadata": {},
   "outputs": [],
   "source": [
    "with torch.no_grad():\n",
    "    model.eval()  # Set model to evaluation mode\n",
    "    correct = 0\n",
    "    total = 0\n",
    "\n",
    "    for i in range(0, len(X_test), batch_size):\n",
    "        batch_text = X_test[i:i+batch_size]\n",
    "        batch_labels = y_test[i:i+batch_size]\n",
    "\n",
    "        input_ids, attention_mask = preprocess_text(batch_text)\n",
    "\n",
    "        # Forward pass\n",
    "        logits = model(input_ids, attention_mask)\n",
    "        predictions = torch.argmax(logits, dim=1)\n",
    "\n",
    "        # Calculate accuracy\n",
    "        correct += (predictions == batch_labels).sum().item()\n",
    "        total += batch_labels.size(0)\n",
    "\n",
    "    accuracy = correct / total\n",
    "    print(\"Validation accuracy:\", accuracy)\n"
   ]
  }
 ],
 "metadata": {
  "kernelspec": {
   "display_name": "base",
   "language": "python",
   "name": "python3"
  },
  "language_info": {
   "codemirror_mode": {
    "name": "ipython",
    "version": 3
   },
   "file_extension": ".py",
   "mimetype": "text/x-python",
   "name": "python",
   "nbconvert_exporter": "python",
   "pygments_lexer": "ipython3",
   "version": "3.10.7"
  }
 },
 "nbformat": 4,
 "nbformat_minor": 2
}
